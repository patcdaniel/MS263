{
 "cells": [
  {
   "cell_type": "markdown",
   "metadata": {},
   "source": [
    "### Homework 4 questions 6-7\n",
    "\n",
    "Q6. The following data are the number of days of upwelling-relaxation events recorded seasonally in the Monterey Bay over 5-6 year period. Test the null hypothesis that the number of upwelling-relaxation events is the same for each season. Which seasons are different from each other?\n",
    "\n",
    "\n",
    "#### ANOVA - analysis of variance\n",
    "From Emmory and Thompson, pg. 267:\n",
    "> In essence, ANOVA is a test between the amount of variation in the data that can be attributed to chance and that which can be attributed to specific causes and effects. If the amount of shared variability *between* samples is small relative to the shared variability *within* samples, then the null hypothesis, H0,--- that the varaiability occured by chance--- cannot be rejected."
   ]
  },
  {
   "cell_type": "code",
   "execution_count": 58,
   "metadata": {
    "collapsed": false
   },
   "outputs": [],
   "source": [
    "%matplotlib inline\n",
    "import matplotlib.pyplot as plt\n",
    "import numpy as np\n",
    "import pandas as pd\n",
    "from scipy import stats\n",
    "from statsmodels.stats import multicomp"
   ]
  },
  {
   "cell_type": "code",
   "execution_count": 22,
   "metadata": {
    "collapsed": false
   },
   "outputs": [
    {
     "name": "stdout",
     "output_type": "stream",
     "text": [
      "    days_upwell  season\n",
      "0           4.7  winter\n",
      "1           4.9  winter\n",
      "2           5.0  winter\n",
      "3           4.8  winter\n",
      "4           4.7  winter\n",
      "5           4.7  winter\n",
      "6           4.6   sping\n",
      "7           4.4   sping\n",
      "8           4.3   sping\n",
      "9           4.4   sping\n",
      "10          4.1   sping\n",
      "11          4.2   sping\n",
      "12          4.8  summer\n",
      "13          4.7  summer\n",
      "14          4.6  summer\n",
      "15          4.4  summer\n",
      "16          4.7  summer\n",
      "17          4.8  summer\n",
      "18          4.9    fall\n",
      "19          5.2    fall\n",
      "20          5.4    fall\n",
      "21          5.1    fall\n",
      "22          5.6    fall\n",
      "23          5.6    fall\n"
     ]
    },
    {
     "name": "stderr",
     "output_type": "stream",
     "text": [
      "/Users/Patrick/anaconda/lib/python2.7/site-packages/ipykernel/__main__.py:13: SettingWithCopyWarning: \n",
      "A value is trying to be set on a copy of a slice from a DataFrame\n",
      "\n",
      "See the caveats in the documentation: http://pandas.pydata.org/pandas-docs/stable/indexing.html#indexing-view-versus-copy\n",
      "/Users/Patrick/anaconda/lib/python2.7/site-packages/ipykernel/__main__.py:14: SettingWithCopyWarning: \n",
      "A value is trying to be set on a copy of a slice from a DataFrame\n",
      "\n",
      "See the caveats in the documentation: http://pandas.pydata.org/pandas-docs/stable/indexing.html#indexing-view-versus-copy\n",
      "/Users/Patrick/anaconda/lib/python2.7/site-packages/ipykernel/__main__.py:15: SettingWithCopyWarning: \n",
      "A value is trying to be set on a copy of a slice from a DataFrame\n",
      "\n",
      "See the caveats in the documentation: http://pandas.pydata.org/pandas-docs/stable/indexing.html#indexing-view-versus-copy\n",
      "/Users/Patrick/anaconda/lib/python2.7/site-packages/ipykernel/__main__.py:16: SettingWithCopyWarning: \n",
      "A value is trying to be set on a copy of a slice from a DataFrame\n",
      "\n",
      "See the caveats in the documentation: http://pandas.pydata.org/pandas-docs/stable/indexing.html#indexing-view-versus-copy\n"
     ]
    }
   ],
   "source": [
    "#Create Data\n",
    "winter = np.array([4.7,4.9,5.0,4.8,4.7,4.7])\n",
    "spring = np.array([4.6,4.4,4.3,4.4,4.1,4.2])\n",
    "summer = np.array([4.8,4.7,4.6,4.4,4.7,4.8])\n",
    "fall = np.array([4.9,5.2,5.4,5.1,5.6,5.6])\n",
    "\n",
    "df = pd.DataFrame(data={'winter':winter,\n",
    "                        'spring':spring,\n",
    "                        'summer':summer,\n",
    "                        'fall':fall})\n",
    "# Reorginize for tukey \n",
    "df_reorg = pd.DataFrame(columns=['days_upwell','season'])\n",
    "df_reorg['days_upwell'] =np.concatenate((winter,spring,summer,fall))\n",
    "df_reorg['season'][:6] = 'winter'\n",
    "df_reorg['season'][6:12] = 'sping'\n",
    "df_reorg['season'][12:18] = 'summer'\n",
    "df_reorg['season'][18:24] = 'fall'"
   ]
  },
  {
   "cell_type": "markdown",
   "metadata": {},
   "source": [
    "##### One-way ANOVA\n",
    "From scipy.stats.f_oneway docs:\n",
    "> The one-way ANOVA tests the null hypothesis that two or more groups have the same population mean. The test is applied to samples from two or more groups, possibly with differing sizes."
   ]
  },
  {
   "cell_type": "code",
   "execution_count": 9,
   "metadata": {
    "collapsed": false
   },
   "outputs": [
    {
     "name": "stdout",
     "output_type": "stream",
     "text": [
      "P = 4.34249417723e-07\n"
     ]
    }
   ],
   "source": [
    "# ANOVA - oneway\n",
    "f_val, p_val = stats.f_oneway(df.winter, df.spring, df.summer, df.fall)\n",
    "print \"P =\", p_val"
   ]
  },
  {
   "cell_type": "markdown",
   "metadata": {},
   "source": [
    "Since P < .05, the means we can reject with 95% confidence the H0 that each group has the same population mean"
   ]
  },
  {
   "cell_type": "code",
   "execution_count": 30,
   "metadata": {
    "collapsed": false
   },
   "outputs": [
    {
     "name": "stdout",
     "output_type": "stream",
     "text": [
      "Multiple Comparison of Means - Tukey HSD,FWER=0.05\n",
      "=============================================\n",
      "group1 group2 meandiff  lower   upper  reject\n",
      "---------------------------------------------\n",
      " fall  sping  -0.9667  -1.2789 -0.6544  True \n",
      " fall  summer -0.6333  -0.9456 -0.3211  True \n",
      " fall  winter   -0.5   -0.8122 -0.1878  True \n",
      "sping  summer  0.3333   0.0211  0.6456  True \n",
      "sping  winter  0.4667   0.1544  0.7789  True \n",
      "summer winter  0.1333  -0.1789  0.4456 False \n",
      "---------------------------------------------\n"
     ]
    }
   ],
   "source": [
    "mc1 = multicomp.MultiComparison(df_reorg.days_upwell,df_reorg.season)\n",
    "res1 = mc1.tukeyhsd()\n",
    "print res1.summary()"
   ]
  },
  {
   "cell_type": "markdown",
   "metadata": {},
   "source": [
    "The post hoc analysis, TukeyHSD, shows that in all seasons, except summer and winter, we can reject the null hypothesis.\n",
    "\n",
    "Running a pairwise test on all pairs with multiple test correction also fails to reject the null hypothesis between summer and winter."
   ]
  },
  {
   "cell_type": "code",
   "execution_count": 31,
   "metadata": {
    "collapsed": false
   },
   "outputs": [
    {
     "name": "stdout",
     "output_type": "stream",
     "text": [
      "Test Multiple Comparison ttest_rel \n",
      "FWER=0.05 method=Holm\n",
      "alphacSidak=0.01, alphacBonf=0.008\n",
      "=============================================\n",
      "group1 group2   stat   pval  pval_corr reject\n",
      "---------------------------------------------\n",
      " fall  sping   5.2086 0.0034   0.0164   True \n",
      " fall  summer  5.2697 0.0033   0.0164   True \n",
      " fall  winter  3.873  0.0117   0.0352   True \n",
      "sping  summer -3.4922 0.0174   0.0352   True \n",
      "sping  winter  -5.534 0.0026   0.0159   True \n",
      "summer winter -1.3969 0.2213   0.2213  False \n",
      "---------------------------------------------\n"
     ]
    }
   ],
   "source": [
    "res2 = mc1.allpairtest(stats.ttest_rel, method='Holm')\n",
    "print res2[0]"
   ]
  },
  {
   "cell_type": "markdown",
   "metadata": {},
   "source": [
    "Q7. You want to test wheter sediment diameter (mm) differs between Carmel River Beach and Monastery Beach, two beaches are with very different slopes. After taking random samples from each beach, you discover that they are composed of fairly large particles and some smaller sediment. Examine the sediment size distribution, and determine if there is a difference between the grain size at each location.\n",
    "\n",
    "\n",
    "Methods: In order to establish that they are different, use a t-test to check that the population means are different, ie reject H0."
   ]
  },
  {
   "cell_type": "code",
   "execution_count": 56,
   "metadata": {
    "collapsed": false
   },
   "outputs": [
    {
     "data": {
      "text/html": [
       "<div>\n",
       "<table border=\"1\" class=\"dataframe\">\n",
       "  <thead>\n",
       "    <tr style=\"text-align: right;\">\n",
       "      <th></th>\n",
       "      <th>carmel</th>\n",
       "      <th>monastery</th>\n",
       "    </tr>\n",
       "  </thead>\n",
       "  <tbody>\n",
       "    <tr>\n",
       "      <th>count</th>\n",
       "      <td>10.000000</td>\n",
       "      <td>10.00000</td>\n",
       "    </tr>\n",
       "    <tr>\n",
       "      <th>mean</th>\n",
       "      <td>2.530000</td>\n",
       "      <td>8.70000</td>\n",
       "    </tr>\n",
       "    <tr>\n",
       "      <th>std</th>\n",
       "      <td>1.494471</td>\n",
       "      <td>5.96378</td>\n",
       "    </tr>\n",
       "    <tr>\n",
       "      <th>min</th>\n",
       "      <td>0.600000</td>\n",
       "      <td>1.00000</td>\n",
       "    </tr>\n",
       "    <tr>\n",
       "      <th>25%</th>\n",
       "      <td>0.975000</td>\n",
       "      <td>3.50000</td>\n",
       "    </tr>\n",
       "    <tr>\n",
       "      <th>50%</th>\n",
       "      <td>3.200000</td>\n",
       "      <td>9.25000</td>\n",
       "    </tr>\n",
       "    <tr>\n",
       "      <th>75%</th>\n",
       "      <td>3.750000</td>\n",
       "      <td>13.62500</td>\n",
       "    </tr>\n",
       "    <tr>\n",
       "      <th>max</th>\n",
       "      <td>4.100000</td>\n",
       "      <td>17.00000</td>\n",
       "    </tr>\n",
       "  </tbody>\n",
       "</table>\n",
       "</div>"
      ],
      "text/plain": [
       "          carmel  monastery\n",
       "count  10.000000   10.00000\n",
       "mean    2.530000    8.70000\n",
       "std     1.494471    5.96378\n",
       "min     0.600000    1.00000\n",
       "25%     0.975000    3.50000\n",
       "50%     3.200000    9.25000\n",
       "75%     3.750000   13.62500\n",
       "max     4.100000   17.00000"
      ]
     },
     "execution_count": 56,
     "metadata": {},
     "output_type": "execute_result"
    }
   ],
   "source": [
    "carmel = np.array([4.,4.1,3.8,3.6,1.2,0.9,2.8,0.6,0.7,3.6])\n",
    "monastery = np.array([7.,1.,2.,3.5,11.5,14.,12.5,17.,15.,3.5])\n",
    "df_sediment = pd.DataFrame(data={'carmel':carmel,\n",
    "                                 'monastery':monastery})"
   ]
  },
  {
   "cell_type": "code",
   "execution_count": 54,
   "metadata": {
    "collapsed": false
   },
   "outputs": [
    {
     "name": "stdout",
     "output_type": "stream",
     "text": [
      "Varaince\n",
      "********************\n",
      "Carmel Beach: 2.0101\n",
      "Monastery Beach: 32.01\n",
      "\n",
      "P: 0.00977957977956\n"
     ]
    }
   ],
   "source": [
    "# ttest_ind() test two independent variables\n",
    "#Check if varaince are equal, or at least close\n",
    "print 'Varaince'\n",
    "print '*'*20\n",
    "print 'Carmel Beach:', np.var(df_sediment.carmel)\n",
    "print 'Monastery Beach:',np.var(df_sediment.monastery)\n",
    "\n",
    "# Since the vars are not equal, setting equal_var=False will perform a Welch's t-test\n",
    "t, prob = stats.ttest_ind(df_sediment.carmel,df_sediment.monastery,equal_var=False) #prob = two tailed p-value\n",
    "print\n",
    "print \"P:\",prob"
   ]
  },
  {
   "cell_type": "code",
   "execution_count": 93,
   "metadata": {
    "collapsed": false
   },
   "outputs": [
    {
     "data": {
      "text/plain": [
       "<matplotlib.text.Text at 0x1143725d0>"
      ]
     },
     "execution_count": 93,
     "metadata": {},
     "output_type": "execute_result"
    },
    {
     "data": {
      "image/png": "[encoded data removed]",
      "text/plain": [
       "<matplotlib.figure.Figure at 0x1142a5050>"
      ]
     },
     "metadata": {},
     "output_type": "display_data"
    }
   ],
   "source": [
    "fig, ax1 = plt.subplots(1)\n",
    "ax1.boxplot(df_sediment.values)\n",
    "ax1.tick_params(axis='y', labelsize=12)\n",
    "ax1.xaxis.set_ticklabels([\"Carmel River\",\"Monastery\"], size = 15)\n",
    "ax1.set_ylabel('Sediment diameter (mm)', size=15)\n",
    "ax1.set_ylim(0,20)\n",
    "# Get location of the ticks\n",
    "tickLoc = ax1.xaxis.get_ticklocs()\n",
    "ax1.text(tickLoc[1], 18,'*',horizontalalignment='center',verticalalignment='center',size=20)"
   ]
  },
  {
   "cell_type": "markdown",
   "metadata": {},
   "source": [
    "Based on the t-test, with 99% confidence we can reject the null hypothesis that the grain sizes of Carmel River beach and Monastary beach have different population means."
   ]
  },
  {
   "cell_type": "code",
   "execution_count": null,
   "metadata": {
    "collapsed": true
   },
   "outputs": [],
   "source": []
  }
 ],
 "metadata": {
  "kernelspec": {
   "display_name": "Python 2",
   "language": "python",
   "name": "python2"
  },
  "language_info": {
   "codemirror_mode": {
    "name": "ipython",
    "version": 2
   },
   "file_extension": ".py",
   "mimetype": "text/x-python",
   "name": "python",
   "nbconvert_exporter": "python",
   "pygments_lexer": "ipython2",
   "version": "2.7.11"
  }
 },
 "nbformat": 4,
 "nbformat_minor": 0
}
