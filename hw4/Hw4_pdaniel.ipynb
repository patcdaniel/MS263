{
 "cells": [
  {
   "cell_type": "code",
   "execution_count": 1,
   "metadata": {
    "collapsed": true
   },
   "outputs": [],
   "source": [
    "import numpy as np"
   ]
  },
  {
   "cell_type": "code",
   "execution_count": 69,
   "metadata": {
    "collapsed": false
   },
   "outputs": [],
   "source": [
    "def fibonacci(num):\n",
    "    stored_fib = np.array([0,1])\n",
    "    if num == 1:\n",
    "        return np.array([0])\n",
    "    elif num == 2:\n",
    "        return np.array([1,1])\n",
    "    else:\n",
    "        for i in range(num):\n",
    "            next_num = stored_fib[-1] + stored_fib[-2]\n",
    "            stored_fib = np.concatenate((stored_fib, np.array([next_num])))\n",
    "        return stored_fib\n",
    "        \n",
    "    "
   ]
  },
  {
   "cell_type": "code",
   "execution_count": 108,
   "metadata": {
    "collapsed": false
   },
   "outputs": [],
   "source": [
    "def cumulative_sum(in_array):\n",
    "    for i in range(len(in_array)):\n",
    "        if i == 0:\n",
    "            total = sum([in_array[0],in_array[1]])\n",
    "            stored_total = np.array([total])\n",
    "        else:\n",
    "            total = total + sum(in_array[:i+1])\n",
    "            stored_total = np.concatenate((stored_total, np.array([total])))\n",
    "    return stored_total\n",
    "\n"
   ]
  },
  {
   "cell_type": "code",
   "execution_count": 128,
   "metadata": {
    "collapsed": true
   },
   "outputs": [],
   "source": [
    "def fib(n):\n",
    "    c = [0,1]\n",
    "    for i in range(0,n):\n",
    "        b = c[-2] + c[-1]\n",
    "        c = c + [b]\n",
    "    return c\n"
   ]
  },
  {
   "cell_type": "code",
   "execution_count": 160,
   "metadata": {
    "collapsed": false
   },
   "outputs": [],
   "source": [
    "def cumlative_sum2(in_list):\n",
    "    total = 0\n",
    "    total_list = []\n",
    "    for num in in_list:\n",
    "        total = total + num\n",
    "        total_list = total_list + [total]\n",
    "    return total_list"
   ]
  },
  {
   "cell_type": "code",
   "execution_count": 188,
   "metadata": {
    "collapsed": false
   },
   "outputs": [],
   "source": [
    "def print_greater(in_list):\n",
    "    for num in in_list:\n",
    "        if num > 10 and num <300:\n",
    "            print num"
   ]
  },
  {
   "cell_type": "code",
   "execution_count": 191,
   "metadata": {
    "collapsed": false
   },
   "outputs": [
    {
     "name": "stdout",
     "output_type": "stream",
     "text": [
      "12\n",
      "20\n",
      "33\n",
      "54\n",
      "88\n",
      "143\n",
      "232\n"
     ]
    }
   ],
   "source": [
    "print_greater(cumlative_sum2(fib(30)))"
   ]
  }
 ],
 "metadata": {
  "kernelspec": {
   "display_name": "Python 2",
   "language": "python",
   "name": "python2"
  },
  "language_info": {
   "codemirror_mode": {
    "name": "ipython",
    "version": 2
   },
   "file_extension": ".py",
   "mimetype": "text/x-python",
   "name": "python",
   "nbconvert_exporter": "python",
   "pygments_lexer": "ipython2",
   "version": "2.7.11"
  }
 },
 "nbformat": 4,
 "nbformat_minor": 0
}
